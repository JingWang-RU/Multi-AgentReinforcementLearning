{
 "cells": [
  {
   "cell_type": "code",
   "execution_count": null,
   "id": "bf50f6a6-d247-4517-bc2d-acaa14a6771a",
   "metadata": {},
   "outputs": [],
   "source": [
    "# mutli-asset manager\n",
    "\n",
    "# x_i^t with components x_nt^i with n=1,...,N be the vector of dollar-valued holdings of risky assets for the i-th agent's portfolio\n",
    "\n",
    "# n=1,...N+M for retail investors,\n",
    "# n = 1,..., N for asset managers\n",
    "# t, delta t is the time \n",
    "# S_t of mid-market prices with components S_nt\n",
    "# B_t is the wealth of a agent, non negative\n",
    "\n",
    "# x_t # R^M, M is the number of agents\n",
    "for t in range(T): # stock price will be the same \n",
    "        for i in range(M) # each x_i is a R^n vector, n stocks in total,  \n",
    "            x[t][i] = S[t] .* h[t][i] # S_t R^n mid-market prices of n stocks, # h_t is the number of stock n held by agent i at time t\n",
    "            pi[t][i] = 1^T * x[t][i] + b[t][i] # pi is the portfolio value, B_t is the cash balance\n",
    "            x[t][i] = x[t][i] + u[t] # u_t is the vector of trades of different stocks bought or sold at time t^+\n",
    "            \n",
    "            #pi_t_plus = pi_t + w_t - c_t - tc_t_ut # w_t receive the money flow, pay fee c_t\n",
    "            #pi_t_plus = 1^T*(x_t[i]+u_t[i]) + b_t_plus[i] # B_t^+ is the cash balance after adjusting the asset positions\n",
    "\n",
    "             # TC is the transaction costs\n",
    "            tc[t] = u[t]^T * Sigma[t] * u[t] # Sigma is the dollar\n",
    "            b_plus[t] = b[t]-1^T* u_t + w[t] - c[t] - tc[t] \n",
    "            if b_t_plus < 0:\n",
    "                        # action a\n",
    "            pi[t+1][i]=(1+r[t])^T*(x[t][i]+u[t]) + (1+r_f)*b_plus[t] #  r_t stochastic rate of returns  # trading decision a_t\n",
    "            \n",
    "            \n",
    "\n",
    "#         # r_f is the a constant risk-free rate   \n",
    "#         # portfolio growths pi_t - (1+r_f)*pi_t \n",
    "        delta_pi[t] = (r[t] - 1^T r_f)^T * (x[t][i] + u[t]) + (1+r_f)*(w[t] - c[t] - tc[t])# portfolio growth\n",
    "        r[t] - 1 r_f = bar_r[t] + eps[t] # r_t is the equity return, eps_t is the noise, bar_r_t is the expected returns\n",
    "#         delta_pi_t  = bar_delta_pi_t + eps_t^T*(x_t + u_t)\n",
    "#         bar_delta_pi_t = bar_r_t^T*(x_t + u_t) + (1+r_f)*(w_t - c_t - u_t_T * sigma * u_t)\n",
    "#         var_t_delta_pi_t = (x_t + u_t)^T * sigma * (x_t + u_t) \n",
    "        \n",
    "        \n",
    "        \n",
    "        \n",
    "\n",
    "        \n",
    "    \n",
    "\n"
   ]
  }
 ],
 "metadata": {
  "kernelspec": {
   "display_name": "default:Python",
   "language": "python",
   "name": "conda-env-default-py"
  },
  "language_info": {
   "codemirror_mode": {
    "name": "ipython",
    "version": 3
   },
   "file_extension": ".py",
   "mimetype": "text/x-python",
   "name": "python",
   "nbconvert_exporter": "python",
   "pygments_lexer": "ipython3",
   "version": "3.9.13"
  }
 },
 "nbformat": 4,
 "nbformat_minor": 5
}
